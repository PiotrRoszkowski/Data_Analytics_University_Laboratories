{
 "cells": [
  {
   "cell_type": "markdown",
   "metadata": {},
   "source": [
    "# Data Analytics - Lab4 Simple model\n",
    "Author: Piotr Roszkowski"
   ]
  },
  {
   "cell_type": "code",
   "execution_count": 26,
   "metadata": {},
   "outputs": [],
   "source": [
    "# Imports\n",
    "import sys\n",
    "sys.path.append('../')\n",
    "import pystan\n",
    "import stan_utility\n",
    "import arviz as az\n",
    "import numpy as np\n",
    "import scipy.stats as stats\n",
    "import pandas as pd\n",
    "import matplotlib.pyplot as plt\n",
    "import matplotlib as mpl\n",
    "import pandas as pd\n",
    "\n",
    "# Color for plot formating\n",
    "black = \"#000000\"\n",
    "grey = \"#999999\""
   ]
  },
  {
   "cell_type": "markdown",
   "metadata": {},
   "source": [
    "### Provided data:"
   ]
  },
  {
   "cell_type": "code",
   "execution_count": 3,
   "metadata": {},
   "outputs": [
    {
     "data": {
      "text/html": [
       "<div>\n",
       "<style scoped>\n",
       "    .dataframe tbody tr th:only-of-type {\n",
       "        vertical-align: middle;\n",
       "    }\n",
       "\n",
       "    .dataframe tbody tr th {\n",
       "        vertical-align: top;\n",
       "    }\n",
       "\n",
       "    .dataframe thead th {\n",
       "        text-align: right;\n",
       "    }\n",
       "</style>\n",
       "<table border=\"1\" class=\"dataframe\">\n",
       "  <thead>\n",
       "    <tr style=\"text-align: right;\">\n",
       "      <th></th>\n",
       "      <th>Year</th>\n",
       "      <th>FatalAccidents</th>\n",
       "      <th>PassengerDeaths</th>\n",
       "      <th>DeathRate</th>\n",
       "      <th>MilesFlown</th>\n",
       "    </tr>\n",
       "  </thead>\n",
       "  <tbody>\n",
       "    <tr>\n",
       "      <th>0</th>\n",
       "      <td>1976</td>\n",
       "      <td>24</td>\n",
       "      <td>734</td>\n",
       "      <td>0.19</td>\n",
       "      <td>3863</td>\n",
       "    </tr>\n",
       "    <tr>\n",
       "      <th>1</th>\n",
       "      <td>1977</td>\n",
       "      <td>25</td>\n",
       "      <td>516</td>\n",
       "      <td>0.12</td>\n",
       "      <td>4300</td>\n",
       "    </tr>\n",
       "    <tr>\n",
       "      <th>2</th>\n",
       "      <td>1978</td>\n",
       "      <td>31</td>\n",
       "      <td>754</td>\n",
       "      <td>0.15</td>\n",
       "      <td>5027</td>\n",
       "    </tr>\n",
       "    <tr>\n",
       "      <th>3</th>\n",
       "      <td>1979</td>\n",
       "      <td>31</td>\n",
       "      <td>877</td>\n",
       "      <td>0.16</td>\n",
       "      <td>5481</td>\n",
       "    </tr>\n",
       "    <tr>\n",
       "      <th>4</th>\n",
       "      <td>1980</td>\n",
       "      <td>22</td>\n",
       "      <td>814</td>\n",
       "      <td>0.14</td>\n",
       "      <td>5814</td>\n",
       "    </tr>\n",
       "    <tr>\n",
       "      <th>5</th>\n",
       "      <td>1981</td>\n",
       "      <td>21</td>\n",
       "      <td>362</td>\n",
       "      <td>0.06</td>\n",
       "      <td>6033</td>\n",
       "    </tr>\n",
       "    <tr>\n",
       "      <th>6</th>\n",
       "      <td>1982</td>\n",
       "      <td>26</td>\n",
       "      <td>764</td>\n",
       "      <td>0.13</td>\n",
       "      <td>5877</td>\n",
       "    </tr>\n",
       "    <tr>\n",
       "      <th>7</th>\n",
       "      <td>1983</td>\n",
       "      <td>20</td>\n",
       "      <td>809</td>\n",
       "      <td>0.13</td>\n",
       "      <td>6223</td>\n",
       "    </tr>\n",
       "    <tr>\n",
       "      <th>8</th>\n",
       "      <td>1984</td>\n",
       "      <td>16</td>\n",
       "      <td>223</td>\n",
       "      <td>0.03</td>\n",
       "      <td>7433</td>\n",
       "    </tr>\n",
       "    <tr>\n",
       "      <th>9</th>\n",
       "      <td>1985</td>\n",
       "      <td>22</td>\n",
       "      <td>1066</td>\n",
       "      <td>0.15</td>\n",
       "      <td>7107</td>\n",
       "    </tr>\n",
       "  </tbody>\n",
       "</table>\n",
       "</div>"
      ],
      "text/plain": [
       "   Year  FatalAccidents  PassengerDeaths  DeathRate  MilesFlown\n",
       "0  1976              24              734       0.19        3863\n",
       "1  1977              25              516       0.12        4300\n",
       "2  1978              31              754       0.15        5027\n",
       "3  1979              31              877       0.16        5481\n",
       "4  1980              22              814       0.14        5814\n",
       "5  1981              21              362       0.06        6033\n",
       "6  1982              26              764       0.13        5877\n",
       "7  1983              20              809       0.13        6223\n",
       "8  1984              16              223       0.03        7433\n",
       "9  1985              22             1066       0.15        7107"
      ]
     },
     "execution_count": 3,
     "metadata": {},
     "output_type": "execute_result"
    }
   ],
   "source": [
    "year = [1976, 1977, 1978, 1979, 1980, 1981, 1982, 1983, 1984, 1985]\n",
    "fatalAccidents = [24, 25, 31, 31, 22, 21, 26, 20, 16, 22]\n",
    "passengerDeaths = [734, 516, 754, 877, 814, 362, 764, 809, 223, 1066]\n",
    "deathRate = [0.19, 0.12, 0.15, 0.16, 0.14, 0.06, 0.13, 0.13, 0.03, 0.15]\n",
    "milesFlown = [3863, 4300, 5027, 5481, 5814, 6033, 5877, 6223, 7433, 7107]\n",
    "data = dict(Year = year, \n",
    "            FatalAccidents = fatalAccidents,\n",
    "            PassengerDeaths = passengerDeaths,\n",
    "            DeathRate = deathRate,\n",
    "            MilesFlown = milesFlown)\n",
    "deathsData = pd.DataFrame(data)\n",
    "deathsData"
   ]
  },
  {
   "cell_type": "markdown",
   "metadata": {},
   "source": [
    "## EXERCISE 1\n",
    "The rate is constant for all years and not depending on anything:\n"
   ]
  },
  {
   "cell_type": "markdown",
   "metadata": {},
   "source": [
    "To make predictions (a posteriori results) we need to have statistical data and assume a priori model. \n",
    "In this example we are not taking into consideration miles flown. \n",
    "\n"
   ]
  },
  {
   "cell_type": "markdown",
   "metadata": {},
   "source": [
    "#### Prior model\n",
    "We assume that the a priori probability distribution is the Poisson distribution.\n",
    "I need to assume an intensity λ of this distribution."
   ]
  },
  {
   "cell_type": "code",
   "execution_count": 6,
   "metadata": {},
   "outputs": [
    {
     "data": {
      "text/plain": [
       "239.43744485773314"
      ]
     },
     "execution_count": 6,
     "metadata": {},
     "output_type": "execute_result"
    }
   ],
   "source": [
    "intensity = deathsData['PassengerDeaths'].sum() / len(deathsData['PassengerDeaths'])\n",
    "#Get sigma \n",
    "sigma = np.std(deathsData['PassengerDeaths'])"
   ]
  },
  {
   "cell_type": "code",
   "execution_count": 7,
   "metadata": {},
   "outputs": [
    {
     "name": "stdout",
     "output_type": "stream",
     "text": [
      "data{\n",
      "    real lam;\n",
      "    real sigma;\n",
      "}\n",
      "\n",
      "generated quantities {\n",
      "    real lamda = normal_rng(lam, sigma);\n",
      "    int deaths = poisson_rng(lamda);\n",
      "}\n"
     ]
    }
   ],
   "source": [
    "# Show Stan file\n",
    "with open('deaths.stan', 'r') as file:\n",
    "    print(file.read())"
   ]
  },
  {
   "cell_type": "code",
   "execution_count": 8,
   "metadata": {},
   "outputs": [
    {
     "name": "stderr",
     "output_type": "stream",
     "text": [
      "INFO:pystan:COMPILING THE C++ CODE FOR MODEL anon_model_13f6bd0048fb36bc243245326e22e15b NOW.\n"
     ]
    }
   ],
   "source": [
    "# Compile model\n",
    "priorStan = pystan.StanModel(file = 'deaths.stan')"
   ]
  },
  {
   "cell_type": "code",
   "execution_count": 10,
   "metadata": {},
   "outputs": [],
   "source": [
    "dic = {'lam': intensity, 'sigma' : sigma}\n",
    "# Perform sampling\n",
    "fit = priorStan.sampling(data = dic, algorithm=\"Fixed_param\", iter=1000, warmup=0, chains=1, refresh=1000, seed=30042020)\n",
    "params = fit.extract()\n",
    "lambda_p = params['lamda']\n",
    "deaths_p = params['deaths']\n"
   ]
  },
  {
   "cell_type": "code",
   "execution_count": 12,
   "metadata": {},
   "outputs": [
    {
     "name": "stdout",
     "output_type": "stream",
     "text": [
      "data {\n",
      "    int N; //Number of samples from data\n",
      "    int deaths[N]; //deaths per year from data\n",
      "}\n",
      "\n",
      "parameters{\n",
      "    real<lower=0> lambda;\n",
      "}\n",
      "\n",
      "model {\n",
      "    lambda ~ normal(692,239);\n",
      "    deaths ~ poisson(lambda);\n",
      "}\n",
      "\n",
      "generated quantities {\n",
      "    int death = poisson_rng(lambda);\n",
      "}\n"
     ]
    }
   ],
   "source": [
    "# Show Stan file\n",
    "with open('deaths_post.stan', 'r') as file:\n",
    "    print(file.read())"
   ]
  },
  {
   "cell_type": "code",
   "execution_count": 13,
   "metadata": {},
   "outputs": [
    {
     "name": "stderr",
     "output_type": "stream",
     "text": [
      "INFO:pystan:COMPILING THE C++ CODE FOR MODEL anon_model_64986aa432e27001c87a4f512c93cb48 NOW.\n"
     ]
    }
   ],
   "source": [
    "# Compile model\n",
    "priorStan = pystan.StanModel(file = 'deaths_post.stan')"
   ]
  },
  {
   "cell_type": "code",
   "execution_count": 27,
   "metadata": {},
   "outputs": [
    {
     "data": {
      "text/plain": [
       "Text(0.5, 1.0, 'Deaths prediction')"
      ]
     },
     "execution_count": 27,
     "metadata": {},
     "output_type": "execute_result"
    },
    {
     "data": {
      "image/png": "[encoded data removed]",
      "text/plain": [
       "<Figure size 864x360 with 1 Axes>"
      ]
     },
     "metadata": {
      "needs_background": "light"
     },
     "output_type": "display_data"
    }
   ],
   "source": [
    "dic = {'N': len(deathsData['PassengerDeaths']), 'deaths' : deathsData['PassengerDeaths']}\n",
    "# Perform sampling\n",
    "fit = priorStan.sampling(data = dic, seed = 43541)\n",
    "az.summary(fit, var_names = ['lambda'], round_to = 2, kind = 'stats')\n",
    "params_f = fit.extract()\n",
    "lambda_f = params_f['lambda']\n",
    "deaths_prediction = params_f['death']\n",
    "fig, axes = plt.subplots(1, 1, figsize=(12, 5))\n",
    "model = plt.hist(deaths_prediction, bins = 30, color = grey, edgecolor = black)\n",
    "plt.title('Deaths prediction')"
   ]
  },
  {
   "cell_type": "markdown",
   "metadata": {},
   "source": [
    "## EXERCISE 2\n",
    "The intensity is constant, but rate is a product of intensity and miles flown:"
   ]
  },
  {
   "cell_type": "code",
   "execution_count": 33,
   "metadata": {},
   "outputs": [
    {
     "data": {
      "text/plain": [
       "0.126"
      ]
     },
     "execution_count": 33,
     "metadata": {},
     "output_type": "execute_result"
    }
   ],
   "source": [
    "#In this case DeathRate is used as intensity\n",
    "intensity = deathsData['DeathRate'].sum() / len(deathsData['DeathRate'])\n",
    "intensity"
   ]
  },
  {
   "cell_type": "markdown",
   "metadata": {},
   "source": [
    "#### Prior model\n",
    "We assume that the a priori probability distribution is the Poisson distribution."
   ]
  },
  {
   "cell_type": "code",
   "execution_count": 34,
   "metadata": {},
   "outputs": [
    {
     "name": "stdout",
     "output_type": "stream",
     "text": [
      "data {\n",
      "  real beta1;\n",
      "  real alpha;\n",
      "  int M;   //number of years analyzed\n",
      "  vector[M] miles;    //number of miles flown each year\n",
      "}\n",
      "\n",
      "generated quantities {\n",
      "  real beta = fabs(beta_rng(alpha, beta1));\n",
      "  int deaths[M];\n",
      "  for (k in 1:M) {\n",
      "    deaths[k] = poisson_rng(beta*miles[k]);\n",
      "  }\n",
      "}\n"
     ]
    }
   ],
   "source": [
    "# Show Stan file\n",
    "with open('rate.stan', 'r') as file:\n",
    "    print(file.read())"
   ]
  },
  {
   "cell_type": "code",
   "execution_count": 35,
   "metadata": {},
   "outputs": [
    {
     "name": "stderr",
     "output_type": "stream",
     "text": [
      "INFO:pystan:COMPILING THE C++ CODE FOR MODEL anon_model_6260b06e3fdfe68a3645698b301e59b9 NOW.\n"
     ]
    }
   ],
   "source": [
    "# Compile model\n",
    "priorStan = pystan.StanModel(file = 'rate.stan')"
   ]
  },
  {
   "cell_type": "code",
   "execution_count": 72,
   "metadata": {},
   "outputs": [
    {
     "data": {
      "image/png": "[encoded data removed]",
      "text/plain": [
       "<Figure size 1080x720 with 1 Axes>"
      ]
     },
     "metadata": {
      "needs_background": "light"
     },
     "output_type": "display_data"
    }
   ],
   "source": [
    "dic = {'beta1': 0.19, 'alpha' : 0.02, 'M' : len(deathsData['DeathRate']), 'miles' : deathsData['MilesFlown']}\n",
    "intensity_sim = priorStan.sampling(data = dic, algorithm=\"Fixed_param\", iter = 1000, warmup=0, chains=1, refresh=1000, seed=43541)\n",
    "\n",
    "dic = {'beta1': 0.19, 'alpha' : 0.02, 'M': 50, 'miles' : np.linspace(deathsData['MilesFlown'].min(), deathsData['MilesFlown'].max())}        \n",
    "rate_s = priorStan.sampling(data = dic, iter = 1000, warmup=0, chains=1, refresh=1000, algorithm='Fixed_param', seed=43541)\n",
    "\n",
    "params = rate_s.extract()\n",
    "beta_sim = params['beta']\n",
    "\n",
    "fig, axes = plt.subplots(1, 1, figsize=(15, 10))\n",
    "axes.hlines([deathsData['PassengerDeaths'].min(),\n",
    "             deathsData['PassengerDeaths'].max()],\n",
    "            xmin=deathsData['MilesFlown'].min(),\n",
    "            xmax=deathsData['MilesFlown'].max(),\n",
    "            linestyles='--',\n",
    "            colors='black')\n",
    "for i in range(100):\n",
    "       axes.plot(np.linspace(deathsData['MilesFlown'].min(), deathsData['MilesFlown'].max()), \n",
    "                 beta_sim[8]*np.linspace(deathsData['MilesFlown'].min(), deathsData['MilesFlown'].max()), \n",
    "                 color='green', alpha=0.5, linewidth=0.5)\n",
    "axes.set_xlabel('MILES FLOWN [100 mln miles]')\n",
    "axes.set_ylabel('PASSENGER DEATHS')\n",
    "axes.set_title('INTENSITY')\n",
    "plt.show()"
   ]
  }
 ],
 "metadata": {
  "kernelspec": {
   "display_name": "Python 3",
   "language": "python",
   "name": "python3"
  },
  "language_info": {
   "codemirror_mode": {
    "name": "ipython",
    "version": 3
   },
   "file_extension": ".py",
   "mimetype": "text/x-python",
   "name": "python",
   "nbconvert_exporter": "python",
   "pygments_lexer": "ipython3",
   "version": "3.7.4"
  }
 },
 "nbformat": 4,
 "nbformat_minor": 4
}
