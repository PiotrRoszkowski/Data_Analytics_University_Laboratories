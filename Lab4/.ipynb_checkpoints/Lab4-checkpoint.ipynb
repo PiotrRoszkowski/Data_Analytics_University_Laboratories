{
 "cells": [
  {
   "cell_type": "markdown",
   "metadata": {},
   "source": [
    "# Data Analytics - Lab4 Simple model\n",
    "Author: Piotr Roszkowski"
   ]
  },
  {
   "cell_type": "code",
   "execution_count": 5,
   "metadata": {},
   "outputs": [],
   "source": [
    "# Imports\n",
    "import sys\n",
    "sys.path.append('../')\n",
    "import pystan\n",
    "import stan_utility\n",
    "import arviz as az\n",
    "import numpy as np\n",
    "import scipy.stats as stats\n",
    "import pandas as pd\n",
    "import matplotlib.pyplot as plt\n",
    "import matplotlib as mpl\n",
    "import pandas as pd\n",
    "\n",
    "# Color for plot formating\n",
    "black = \"#000000\""
   ]
  },
  {
   "cell_type": "markdown",
   "metadata": {},
   "source": [
    "### Provided data:"
   ]
  },
  {
   "cell_type": "code",
   "execution_count": 9,
   "metadata": {},
   "outputs": [
    {
     "data": {
      "text/html": [
       "<div>\n",
       "<style scoped>\n",
       "    .dataframe tbody tr th:only-of-type {\n",
       "        vertical-align: middle;\n",
       "    }\n",
       "\n",
       "    .dataframe tbody tr th {\n",
       "        vertical-align: top;\n",
       "    }\n",
       "\n",
       "    .dataframe thead th {\n",
       "        text-align: right;\n",
       "    }\n",
       "</style>\n",
       "<table border=\"1\" class=\"dataframe\">\n",
       "  <thead>\n",
       "    <tr style=\"text-align: right;\">\n",
       "      <th></th>\n",
       "      <th>Year</th>\n",
       "      <th>FatalAccidents</th>\n",
       "      <th>PassengerDeaths</th>\n",
       "      <th>DeathRate</th>\n",
       "      <th>MilesFlown</th>\n",
       "    </tr>\n",
       "  </thead>\n",
       "  <tbody>\n",
       "    <tr>\n",
       "      <th>0</th>\n",
       "      <td>1976</td>\n",
       "      <td>24</td>\n",
       "      <td>734</td>\n",
       "      <td>0.19</td>\n",
       "      <td>3863</td>\n",
       "    </tr>\n",
       "    <tr>\n",
       "      <th>1</th>\n",
       "      <td>1977</td>\n",
       "      <td>25</td>\n",
       "      <td>516</td>\n",
       "      <td>0.12</td>\n",
       "      <td>4300</td>\n",
       "    </tr>\n",
       "    <tr>\n",
       "      <th>2</th>\n",
       "      <td>1978</td>\n",
       "      <td>31</td>\n",
       "      <td>754</td>\n",
       "      <td>0.15</td>\n",
       "      <td>5027</td>\n",
       "    </tr>\n",
       "    <tr>\n",
       "      <th>3</th>\n",
       "      <td>1979</td>\n",
       "      <td>31</td>\n",
       "      <td>877</td>\n",
       "      <td>0.16</td>\n",
       "      <td>5481</td>\n",
       "    </tr>\n",
       "    <tr>\n",
       "      <th>4</th>\n",
       "      <td>1980</td>\n",
       "      <td>22</td>\n",
       "      <td>814</td>\n",
       "      <td>0.14</td>\n",
       "      <td>5814</td>\n",
       "    </tr>\n",
       "    <tr>\n",
       "      <th>5</th>\n",
       "      <td>1981</td>\n",
       "      <td>21</td>\n",
       "      <td>362</td>\n",
       "      <td>0.06</td>\n",
       "      <td>6033</td>\n",
       "    </tr>\n",
       "    <tr>\n",
       "      <th>6</th>\n",
       "      <td>1982</td>\n",
       "      <td>26</td>\n",
       "      <td>764</td>\n",
       "      <td>0.13</td>\n",
       "      <td>5877</td>\n",
       "    </tr>\n",
       "    <tr>\n",
       "      <th>7</th>\n",
       "      <td>1983</td>\n",
       "      <td>20</td>\n",
       "      <td>809</td>\n",
       "      <td>0.13</td>\n",
       "      <td>6223</td>\n",
       "    </tr>\n",
       "    <tr>\n",
       "      <th>8</th>\n",
       "      <td>1984</td>\n",
       "      <td>16</td>\n",
       "      <td>223</td>\n",
       "      <td>0.03</td>\n",
       "      <td>7433</td>\n",
       "    </tr>\n",
       "    <tr>\n",
       "      <th>9</th>\n",
       "      <td>1985</td>\n",
       "      <td>22</td>\n",
       "      <td>1066</td>\n",
       "      <td>0.15</td>\n",
       "      <td>7107</td>\n",
       "    </tr>\n",
       "  </tbody>\n",
       "</table>\n",
       "</div>"
      ],
      "text/plain": [
       "   Year  FatalAccidents  PassengerDeaths  DeathRate  MilesFlown\n",
       "0  1976              24              734       0.19        3863\n",
       "1  1977              25              516       0.12        4300\n",
       "2  1978              31              754       0.15        5027\n",
       "3  1979              31              877       0.16        5481\n",
       "4  1980              22              814       0.14        5814\n",
       "5  1981              21              362       0.06        6033\n",
       "6  1982              26              764       0.13        5877\n",
       "7  1983              20              809       0.13        6223\n",
       "8  1984              16              223       0.03        7433\n",
       "9  1985              22             1066       0.15        7107"
      ]
     },
     "execution_count": 9,
     "metadata": {},
     "output_type": "execute_result"
    }
   ],
   "source": [
    "year = [1976, 1977, 1978, 1979, 1980, 1981, 1982, 1983, 1984, 1985]\n",
    "fatalAccidents = [24, 25, 31, 31, 22, 21, 26, 20, 16, 22]\n",
    "passengerDeaths = [734, 516, 754, 877, 814, 362, 764, 809, 223, 1066]\n",
    "deathRate = [0.19, 0.12, 0.15, 0.16, 0.14, 0.06, 0.13, 0.13, 0.03, 0.15]\n",
    "milesFlown = [3863, 4300, 5027, 5481, 5814, 6033, 5877, 6223, 7433, 7107]\n",
    "data = dict(Year = year, \n",
    "            FatalAccidents = fatalAccidents,\n",
    "            PassengerDeaths = passengerDeaths,\n",
    "            DeathRate = deathRate,\n",
    "            MilesFlown = milesFlown)\n",
    "deathsData = pd.DataFrame(data)\n",
    "deathsData"
   ]
  },
  {
   "cell_type": "markdown",
   "metadata": {},
   "source": [
    "## EXERCISE 1\n",
    "1. The rate is constant for all years and not depending on anything:\n"
   ]
  },
  {
   "cell_type": "markdown",
   "metadata": {},
   "source": [
    "## EXERCISE 2\n",
    "1. The rate is constant for all years and not depending on anything:"
   ]
  }
 ],
 "metadata": {
  "kernelspec": {
   "display_name": "Python 3",
   "language": "python",
   "name": "python3"
  },
  "language_info": {
   "codemirror_mode": {
    "name": "ipython",
    "version": 3
   },
   "file_extension": ".py",
   "mimetype": "text/x-python",
   "name": "python",
   "nbconvert_exporter": "python",
   "pygments_lexer": "ipython3",
   "version": "3.7.4"
  }
 },
 "nbformat": 4,
 "nbformat_minor": 4
}
